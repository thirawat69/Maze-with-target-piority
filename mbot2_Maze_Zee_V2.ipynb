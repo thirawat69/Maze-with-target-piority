{
  "nbformat": 4,
  "nbformat_minor": 0,
  "metadata": {
    "colab": {
      "name": "mbot2_Maze-Zee-V2.ipynb",
      "provenance": [],
      "collapsed_sections": [
        "vMpx2sjnUVkW",
        "lGWSRJMcUjbM",
        "O4sh-si17-Hk",
        "hxf-g5RiHTnq",
        "AMLwxAktO_2V",
        "D-oe5urMMQqc",
        "UD91BC0_Mg3V",
        "pxCyjNcyLbki",
        "oLN7h78DD3wA",
        "bapCZu6ylb2F"
      ]
    },
    "kernelspec": {
      "name": "python3",
      "display_name": "Python 3"
    },
    "language_info": {
      "name": "python"
    }
  },
  "cells": [
    {
      "cell_type": "code",
      "source": [
        "import numpy as np"
      ],
      "metadata": {
        "id": "SvZERa78jW2H"
      },
      "execution_count": null,
      "outputs": []
    },
    {
      "cell_type": "markdown",
      "source": [
        "# Function and testing"
      ],
      "metadata": {
        "id": "Xy4w1j7YxlXt"
      }
    },
    {
      "cell_type": "markdown",
      "source": [
        "## **Map**"
      ],
      "metadata": {
        "id": "PkeHaWPDQRKW"
      }
    },
    {
      "cell_type": "markdown",
      "source": [
        "### getPositionAround(x,y)"
      ],
      "metadata": {
        "id": "vMpx2sjnUVkW"
      }
    },
    {
      "cell_type": "code",
      "source": [
        "def getPositionAround(x,y):\n",
        "  minX = 0\n",
        "  minY = 0\n",
        "  maxX = 10\n",
        "  maxY = 5\n",
        "  var = [-1,0,1]\n",
        "  around = []\n",
        "\n",
        "  for i in range(3):\n",
        "    for j in range(3):\n",
        "      tempX = x+var[i]\n",
        "      tempY = y+var[j]\n",
        "      if (tempX==x and tempY==y) or (tempX<minX or tempY<minY) or (tempX>maxX or tempY>maxY):\n",
        "        continue\n",
        "      around.append((tempX, tempY))\n",
        "  return around"
      ],
      "metadata": {
        "id": "flIoolAMDRs4"
      },
      "execution_count": null,
      "outputs": []
    },
    {
      "cell_type": "markdown",
      "source": [
        "### setMap(lowPat, midPat, hardPat, wall)"
      ],
      "metadata": {
        "id": "lGWSRJMcUjbM"
      }
    },
    {
      "cell_type": "code",
      "source": [
        "def setMap(poslow, posMid, posHard, wall):\n",
        "  map = np.zeros((11,6),np.int8)\n",
        "  mask = np.zeros((11,6),np.int8)\n",
        "  position = [poslow, posMid, posHard, wall]\n",
        "  behavior = [1,2,3,0]\n",
        "  # เซ็ทแหน่งของผู้ป่วย\n",
        "  for i, pos in enumerate(position):\n",
        "    for j in range(len(pos)):\n",
        "      # ตำแหน่งปัจจุบัน\n",
        "      x = pos[j][0]\n",
        "      y = pos[j][1]\n",
        "      # หารอบๆ\n",
        "      ard = getPositionAround(x,y)\n",
        "      # เซ็ทค่าตำแหน่งปัจจุบัน\n",
        "      if i==0:\n",
        "        map[x][y] = 97\n",
        "        mask[x][y] = 97\n",
        "      elif i==1:\n",
        "        map[x][y] = 98\n",
        "        mask[x][y] = 98\n",
        "      elif i==2:\n",
        "        map[x][y] = 99\n",
        "        mask[x][y] = 99\n",
        "      elif i==3:\n",
        "        map[x][y] = 111\n",
        "        mask[x][y] = 111\n",
        "\n",
        "      around = getPositionAround(x,y)\n",
        "      for ard in around:\n",
        "        ardX = ard[0]\n",
        "        ardY = ard[1]\n",
        "        if map[ardX,ardY]== 97 or map[ardX,ardY]== 98 or map[ardX,ardY]== 99:\n",
        "          continue\n",
        "        else:\n",
        "          map[ardX,ardY]+=behavior[i]\n",
        "  return map, mask"
      ],
      "metadata": {
        "id": "X7Jc9gnHaxiJ"
      },
      "execution_count": null,
      "outputs": []
    },
    {
      "cell_type": "markdown",
      "source": [
        "### deleteMapWeight(map,pos)"
      ],
      "metadata": {
        "id": "PEGT8N1Xxa6L"
      }
    },
    {
      "cell_type": "code",
      "source": [
        "def deleteMapWeight(map,pos):\n",
        "  x = pos[0]\n",
        "  y = pos[1]\n",
        "  behavior = [1,2,3]\n",
        "  if map[x][y]==97 or map[x][y]==98 or map[x][y]==99:\n",
        "    around = getPositionAround(x,y)\n",
        "    for pos in around:\n",
        "      ardX = pos[0]\n",
        "      ardY = pos[1]\n",
        "      if map[ardX][ardY]==97 or map[ardX][ardY]==98  or map[ardX][ardY]==99:\n",
        "        continue\n",
        "      else:\n",
        "        if map[x][y]==97 and map[ardX][ardY]!=-1:\n",
        "          map[ardX][ardY]-=behavior[0]\n",
        "        elif map[x][y]==98 and map[ardX][ardY]!=-1:\n",
        "          map[ardX][ardY]-=behavior[1]\n",
        "        elif map[x][y]==99 and map[ardX][ardY]!=-1:\n",
        "          map[ardX][ardY]-=behavior[2]\n",
        "\n",
        "    map[x][y]=-1\n",
        "  else:\n",
        "    print('not position of patient')\n",
        "\n",
        "  return map"
      ],
      "metadata": {
        "id": "dz2zRhy-xgj8"
      },
      "execution_count": null,
      "outputs": []
    },
    {
      "cell_type": "markdown",
      "source": [
        "### heaviestCase(map)"
      ],
      "metadata": {
        "id": "O4sh-si17-Hk"
      }
    },
    {
      "cell_type": "code",
      "source": [
        "def heaviestCase(map):\n",
        "  x99,y99 = np.where(map==99)\n",
        "  x98,y98 = np.where(map==98)\n",
        "  x97,y97 = np.where(map==97)\n",
        "  heaviest = 0\n",
        "\n",
        "  if x99.size!=0:\n",
        "    # print('heaviest case is 99')\n",
        "    heaviest = 99\n",
        "  elif x98.size!=0:\n",
        "    # print('heaviest case is 98')\n",
        "    heaviest = 98\n",
        "  elif x97.size!=0:\n",
        "    # print('heaviest case is 97')\n",
        "    heaviest = 97\n",
        "  return heaviest"
      ],
      "metadata": {
        "id": "uY9NL8QX8bpD"
      },
      "execution_count": null,
      "outputs": []
    },
    {
      "cell_type": "markdown",
      "source": [
        "## **Destination**"
      ],
      "metadata": {
        "id": "4uIYd-TCQUlO"
      }
    },
    {
      "cell_type": "markdown",
      "source": [
        "### astar(maze, start, end)"
      ],
      "metadata": {
        "id": "hxf-g5RiHTnq"
      }
    },
    {
      "cell_type": "code",
      "source": [
        "class Node():\n",
        "    def __init__(self, parent=None, position=None):\n",
        "        self.parent = parent\n",
        "        self.position = position\n",
        "        \n",
        "        self.g = 0\n",
        "        self.h = 0\n",
        "        self.f = 0\n",
        "    def __eq__(self, other):\n",
        "        return self.position == other.position\n",
        "\n",
        "def astar(maze, start, end):\n",
        "    # Create start and end node\n",
        "    start_node = Node(None, start)\n",
        "    start_node.g = start_node.h = start_node.f = 0\n",
        "    end_node = Node(None, end)\n",
        "    end_node.g = end_node.h = end_node.f = 0\n",
        "\n",
        "    # Initialize both open and closed list\n",
        "    open_list = []\n",
        "    closed_list = []\n",
        "    # Add the start node\n",
        "    open_list.append(start_node)\n",
        "\n",
        "    # Loop until you find the end\n",
        "    while len(open_list) > 0:\n",
        "\n",
        "        # Get the current node\n",
        "        current_node = open_list[0]\n",
        "        current_index = 0\n",
        "        for index, item in enumerate(open_list):\n",
        "            if item.f < current_node.f:\n",
        "                current_node = item\n",
        "                current_index = index\n",
        "\n",
        "        # Pop current off open list, add to closed list\n",
        "        open_list.pop(current_index)\n",
        "        closed_list.append(current_node)\n",
        "\n",
        "        # Found the goal\n",
        "        if current_node == end_node:\n",
        "            path = []\n",
        "            current = current_node\n",
        "            while current is not None:\n",
        "                path.append(current.position)\n",
        "                current = current.parent\n",
        "            return path[::-1] # Return reversed path\n",
        "\n",
        "        # Generate children\n",
        "        children = []\n",
        "        for new_position in [(0, -1), (0, 1), (-1, 0), (1, 0), (-1, -1), (-1, 1), (1, -1), (1, 1)]: # Adjacent squares\n",
        "\n",
        "            # Get node position\n",
        "            node_position = (current_node.position[0] + new_position[0], current_node.position[1] + new_position[1])\n",
        "\n",
        "            # Make sure within range\n",
        "            if node_position[0] > (len(maze) - 1) or node_position[0] < 0 or node_position[1] > (len(maze[len(maze)-1]) -1) or node_position[1] < 0:\n",
        "                continue\n",
        "\n",
        "            # Make sure walkable terrain\n",
        "            if maze[node_position[0]][node_position[1]] != 0:\n",
        "                continue\n",
        "\n",
        "            # Create new node\n",
        "            new_node = Node(current_node, node_position)\n",
        "\n",
        "            # Append\n",
        "            children.append(new_node)\n",
        "\n",
        "        # Loop through children\n",
        "        for child in children:\n",
        "\n",
        "            # Child is on the closed list\n",
        "            for closed_child in closed_list:\n",
        "                if child == closed_child:\n",
        "                    continue\n",
        "\n",
        "            # Create the f, g, and h values\n",
        "            child.g = current_node.g + 1\n",
        "            child.h = ((child.position[0] - end_node.position[0]) ** 2) + ((child.position[1] - end_node.position[1]) ** 2)\n",
        "            child.f = child.g + child.h\n",
        "\n",
        "            # Child is already in the open list\n",
        "            for open_node in open_list:\n",
        "                if child == open_node and child.g > open_node.g:\n",
        "                    continue\n",
        "\n",
        "            # Add the child to the open list\n",
        "            open_list.append(child)"
      ],
      "metadata": {
        "id": "KerHm7hdDDD6"
      },
      "execution_count": null,
      "outputs": []
    },
    {
      "cell_type": "markdown",
      "source": [
        "### getSetDestination(map)"
      ],
      "metadata": {
        "id": "AMLwxAktO_2V"
      }
    },
    {
      "cell_type": "code",
      "source": [
        "def getSetDestination(map):\n",
        "  if heaviestCase(map)!=0:\n",
        "    des = np.argwhere(map==heaviestCase(map))\n",
        "    desArd = []\n",
        "    max = 0\n",
        "    allAround = []\n",
        "    # print('destination: ',des)\n",
        "    # หา index รอบๆผู้ป่วยที่ป่วยที่สุด\n",
        "    for idx, pos in enumerate(des):\n",
        "      x = pos[0]\n",
        "      y = pos[1]\n",
        "      around = getPositionAround(x,y)\n",
        "      allAround.append(around)\n",
        "      # print('ard: ',around)\n",
        "      # หาว่าช่องไหนมันมีค่ามาที่สุด\n",
        "      for ard in around:\n",
        "        ardX = ard[0]\n",
        "        ardY = ard[1]\n",
        "        # print(ard,' ',map[ardX,ardY] )\n",
        "        # print('...',ardX,',',ardY,'val: ',map[ardY,ardX])\n",
        "        if map[ardX,ardY]==97 or map[ardX,ardY]==98 or map[ardX,ardY]==99:\n",
        "          continue\n",
        "        elif map[ardX,ardY]>max:\n",
        "          max = map[ardX,ardY]\n",
        "    # print('allAround: ',allAround)\n",
        "    # print('max: ',max)  \n",
        "\n",
        "    ardd = []\n",
        "    for i in allAround:\n",
        "      for j in i:\n",
        "        ardd.append(j)\n",
        "    aroundSet = list(set(ardd)) \n",
        "\n",
        "    for ard in aroundSet:\n",
        "      ardX = ard[0]\n",
        "      ardY = ard[1]\n",
        "      if map[ardX,ardY]==max:\n",
        "        desArd.append(ard)\n",
        "    # print('candidate: ',desArd)\n",
        "    return desArd\n",
        "  else:\n",
        "    return 0"
      ],
      "metadata": {
        "id": "n7jyE55DB1cU"
      },
      "execution_count": null,
      "outputs": []
    },
    {
      "cell_type": "markdown",
      "source": [
        "### getbestDestination(mask, start, desSet)"
      ],
      "metadata": {
        "id": "D-oe5urMMQqc"
      }
    },
    {
      "cell_type": "code",
      "source": [
        "def getbestDestination(mask, start, desSet):\n",
        "  if desSet!=0:\n",
        "    bestPathLen = 999\n",
        "    bestPathIndex = 0\n",
        "    bestPath = []\n",
        "    for i, pos in enumerate(desSet):\n",
        "      x = pos[0]\n",
        "      y = pos[1]\n",
        "      path = astar(mask, start, (x,y))\n",
        "      # print('path: ', path)\n",
        "      if len(path) <= bestPathLen:\n",
        "        # print('index: ', i,' len: ',len(path))\n",
        "        bestPathIndex = i\n",
        "        bestPathLen = len(path)\n",
        "        bestPath = path\n",
        "    # print('des pos: ', pos,'path: ',len(path))\n",
        "    # print(bestPathIndex)\n",
        "    # print(desSet[bestPathIndex])\n",
        "\n",
        "    return desSet[bestPathIndex], bestPath\n",
        "  else:\n",
        "    path = astar(mask, start, (10,3))\n",
        "    return (10,3), path"
      ],
      "metadata": {
        "id": "v6FHNuGUKEJW"
      },
      "execution_count": null,
      "outputs": []
    },
    {
      "cell_type": "markdown",
      "source": [
        "### getDestination(map, mask, start)\n",
        "wrapper "
      ],
      "metadata": {
        "id": "UD91BC0_Mg3V"
      }
    },
    {
      "cell_type": "code",
      "source": [
        "def getDestination(map, mask, start):\n",
        "  desSet = getSetDestination(map)\n",
        "  des, path = getbestDestination(mask, start, desSet)\n",
        "  # tuple -> list\n",
        "  for i in range(len(path)):\n",
        "    path[i] = list(path[i])\n",
        "  return des, path"
      ],
      "metadata": {
        "id": "PYl1lY5lMcT7"
      },
      "execution_count": null,
      "outputs": []
    },
    {
      "cell_type": "markdown",
      "source": [
        "### findPatientAround(pos)"
      ],
      "metadata": {
        "id": "oLN7h78DD3wA"
      }
    },
    {
      "cell_type": "code",
      "source": [
        "def findPatientAround(pos):\n",
        "  x = pos[0]\n",
        "  y = pos[1]\n",
        "  around = getPositionAround(x,y)\n",
        "  hard = []\n",
        "  mid = []\n",
        "  low = []\n",
        "  all = []\n",
        "\n",
        "  for ard in around:\n",
        "    x = ard[0]\n",
        "    y = ard[1]\n",
        "    # print(map[x][y])\n",
        "    if map[x][y]==99:\n",
        "      hard.append([x,y])\n",
        "    elif map[x][y]==98:\n",
        "      mid.append([x,y])\n",
        "    elif map[x][y]==97:\n",
        "      low.append([x,y])\n",
        "  if len(hard)!=0:\n",
        "    all += hard\n",
        "  elif len(mid)!=0:\n",
        "    all += mid\n",
        "  elif len(low)!=0:\n",
        "    all += low\n",
        "\n",
        "  return all"
      ],
      "metadata": {
        "id": "2CeWCP99EF-e"
      },
      "execution_count": null,
      "outputs": []
    },
    {
      "cell_type": "markdown",
      "source": [
        "### makeFinalPath(map,mask)"
      ],
      "metadata": {
        "id": "bapCZu6ylb2F"
      }
    },
    {
      "cell_type": "code",
      "source": [
        "def makeFinalPath(map,mask):\n",
        "  finalPath = []\n",
        "  i=0\n",
        "  des = (0, 0)\n",
        "  while des!=(10, 3):\n",
        "    if i==0:\n",
        "      start = (10,3)\n",
        "    else:\n",
        "      start = des\n",
        "    des, path = getDestination(map, mask, start)\n",
        "    targets = findPatientAround(des)\n",
        "    for pos in targets:\n",
        "      deleteMapWeight(map, pos)\n",
        "\n",
        "    # print(des)\n",
        "    # print(map)\n",
        "    # print(path)\n",
        "    # print(targets)\n",
        "\n",
        "    for idx, target in enumerate(targets):\n",
        "      pathPair = path.copy()\n",
        "      if idx==0:\n",
        "        pathPair.append(target)\n",
        "        finalPath.append(pathPair)\n",
        "      else: \n",
        "        cur = pathPair[-1]\n",
        "        temp = [cur, target]\n",
        "        finalPath.append(temp)\n",
        "  \n",
        "    if des == (10, 3):\n",
        "      finalPath.append(path) \n",
        "    i+=1\n",
        "\n",
        "  return finalPath"
      ],
      "metadata": {
        "id": "ylTFSEi6lf6n"
      },
      "execution_count": null,
      "outputs": []
    },
    {
      "cell_type": "markdown",
      "source": [
        "### patTranform(list)"
      ],
      "metadata": {
        "id": "aP_e3LkRttpD"
      }
    },
    {
      "cell_type": "code",
      "source": [
        "def patTranform(finalPath):\n",
        "  temp = finalPath.copy()\n",
        "  for i, row in enumerate(finalPath):\n",
        "    for j, value in enumerate(row):\n",
        "      # print(finalPath[i][j])\n",
        "     temp[i][j] = [abs(value[0]-10),value[1]]\n",
        "  return temp"
      ],
      "metadata": {
        "id": "1ftm3dD_tzTg"
      },
      "execution_count": null,
      "outputs": []
    },
    {
      "cell_type": "markdown",
      "source": [
        "# **Map 1**"
      ],
      "metadata": {
        "id": "aPuPrp1zxqrL"
      }
    },
    {
      "cell_type": "code",
      "source": [
        "# map 1\n",
        "lowPat = [(0,0),(5,4)]\n",
        "midPat = [(1,0), (3,2)]\n",
        "hardPat = [(1,5)]\n",
        "wall = [(7,0), (8,0), (9,0), (10,0), (8,1), (9,1), (10,1), (8,4), (9,4), (10,4) ,(7,5) ,(8,5) ,(9,5) ,(10,5)]"
      ],
      "metadata": {
        "id": "81ElPAEqxrvK"
      },
      "execution_count": null,
      "outputs": []
    },
    {
      "cell_type": "code",
      "source": [
        "map, mask = setMap(lowPat, midPat, hardPat, wall)\n",
        "finalPath = makeFinalPath(map,mask)\n",
        "finalPath"
      ],
      "metadata": {
        "colab": {
          "base_uri": "https://localhost:8080/"
        },
        "id": "xX-z0gbplOfa",
        "outputId": "2115c36a-b992-4d11-be2f-a6ca950dd95f"
      },
      "execution_count": null,
      "outputs": [
        {
          "output_type": "execute_result",
          "data": {
            "text/plain": [
              "[[[10, 3],\n",
              "  [9, 3],\n",
              "  [8, 3],\n",
              "  [7, 4],\n",
              "  [6, 4],\n",
              "  [5, 3],\n",
              "  [4, 4],\n",
              "  [3, 4],\n",
              "  [2, 4],\n",
              "  [1, 5]],\n",
              " [[2, 4], [2, 3], [2, 2], [2, 1], [1, 0]],\n",
              " [[2, 1], [3, 2]],\n",
              " [[2, 1], [1, 1], [0, 0]],\n",
              " [[1, 1], [2, 2], [3, 3], [4, 3], [5, 4]],\n",
              " [[4, 3], [5, 3], [6, 3], [7, 3], [8, 3], [9, 3], [10, 3]]]"
            ]
          },
          "metadata": {},
          "execution_count": 54
        }
      ]
    },
    {
      "cell_type": "code",
      "source": [
        "patTranform(finalPath)"
      ],
      "metadata": {
        "colab": {
          "base_uri": "https://localhost:8080/"
        },
        "id": "Y30gn3zpuKv1",
        "outputId": "255572a2-930e-4584-afaa-bf922bec833e"
      },
      "execution_count": null,
      "outputs": [
        {
          "output_type": "execute_result",
          "data": {
            "text/plain": [
              "[[[0, 3],\n",
              "  [1, 3],\n",
              "  [2, 3],\n",
              "  [3, 4],\n",
              "  [4, 4],\n",
              "  [5, 3],\n",
              "  [6, 4],\n",
              "  [7, 4],\n",
              "  [8, 4],\n",
              "  [9, 5]],\n",
              " [[8, 4], [8, 3], [8, 2], [8, 1], [9, 0]],\n",
              " [[8, 1], [7, 2]],\n",
              " [[8, 1], [9, 1], [10, 0]],\n",
              " [[9, 1], [8, 2], [7, 3], [6, 3], [5, 4]],\n",
              " [[6, 3], [5, 3], [4, 3], [3, 3], [2, 3], [1, 3], [0, 3]]]"
            ]
          },
          "metadata": {},
          "execution_count": 55
        }
      ]
    },
    {
      "cell_type": "code",
      "source": [
        "mask"
      ],
      "metadata": {
        "colab": {
          "base_uri": "https://localhost:8080/"
        },
        "id": "wxkynt23p4PH",
        "outputId": "39dcaa5f-7f27-4009-d249-9c21447a2d54"
      },
      "execution_count": null,
      "outputs": [
        {
          "output_type": "execute_result",
          "data": {
            "text/plain": [
              "array([[ 97,   0,   0,   0,   0,   0],\n",
              "       [ 98,   0,   0,   0,   0,  99],\n",
              "       [  0,   0,   0,   0,   0,   0],\n",
              "       [  0,   0,  98,   0,   0,   0],\n",
              "       [  0,   0,   0,   0,   0,   0],\n",
              "       [  0,   0,   0,   0,  97,   0],\n",
              "       [  0,   0,   0,   0,   0,   0],\n",
              "       [111,   0,   0,   0,   0, 111],\n",
              "       [111, 111,   0,   0, 111, 111],\n",
              "       [111, 111,   0,   0, 111, 111],\n",
              "       [111, 111,   0,   0, 111, 111]], dtype=int8)"
            ]
          },
          "metadata": {},
          "execution_count": 56
        }
      ]
    }
  ]
}